{
 "cells": [
  {
   "cell_type": "code",
   "execution_count": null,
   "metadata": {},
   "outputs": [],
   "source": [
    "import pandas as pd\n",
    "import numpy as np\n",
    "\n",
    "import requests\n",
    "import io\n",
    "\n",
    "import matplotlib.pylab as plt\n",
    "from matplotlib.pylab import rcParams\n",
    "from matplotlib import pyplot\n",
    "#rcParams['figure.figsize'] = 12, 4"
   ]
  },
  {
   "cell_type": "markdown",
   "metadata": {},
   "source": [
    "# 10 Introduction to the MNIST Digit Dataset (Extra Chapter)\n",
    "This is an extra chapter based on the famous MNIST-dataset consisting of images of handwritten digits.\n",
    "\n",
    "* data can be found at kaggle: \n",
    "https://www.kaggle.com/vikramtiwari/mnist-numpy\n",
    "* a part of this tutorial was borrowed from Richard Corrado:\n",
    "https://richcorrado.github.io/MNIST_Digits-overview.html\n",
    "\n",
    "The MNIST digit database is a very popular database for studying machine learning techniques, especially pattern-recognition methods. There are many reasons for this, but in particular, a large amount of preprocessing has already been done in translating the images to a machine encoding consisting of greyscale pixel values. Therefore the student/researcher can investigate further preprocessing, but can also directly apply machine learning techniques to a very clean dataset, without any preprocessing. Furthermore, it is a standardized dataset that allows for comparison of results with published approaches and error rates."
   ]
  },
  {
   "cell_type": "markdown",
   "metadata": {},
   "source": [
    "### 10.1 Loading Numpy Data\n",
    "\n",
    "Unlike the previous data, this time the data is stored as a numpy '.npz' file. This has not to worry us, because with the following routine the data can be easily read in."
   ]
  },
  {
   "cell_type": "code",
   "execution_count": null,
   "metadata": {},
   "outputs": [],
   "source": [
    "def load_data(path, isURL=False):\n",
    "    if isURL:\n",
    "        response = requests.get(path)\n",
    "        response.raise_for_status()\n",
    "        path = io.BytesIO(response.content)\n",
    "    \n",
    "    with np.load(path) as f:\n",
    "        x_train, y_train = f['x_train'], f['y_train']\n",
    "        x_test, y_test = f['x_test'], f['y_test']\n",
    "        return (x_train, y_train), (x_test, y_test)"
   ]
  },
  {
   "cell_type": "code",
   "execution_count": null,
   "metadata": {},
   "outputs": [],
   "source": [
    "# 2 Options for loading the MNIST data:\n",
    "\n",
    "# filepath for local execution:\n",
    "(x_train, y_train), (x_test, y_test) = load_data('../data/mnist.npz')\n",
    "\n",
    "# filepath for online (colab) execution: \n",
    "#(x_train, y_train), (x_test, y_test) = load_data('https://speicherwolke.uni-leipzig.de/index.php/s/5yaXwWDkq9SsqGj/download/mnist.npz', isURL=True)\n"
   ]
  },
  {
   "cell_type": "markdown",
   "metadata": {},
   "source": [
    "Since we received a multidimensional numpy array instead of a pandas DataFrame, we'll dive into numpy a bit and come back to pandas later. First, let's look at the train data:"
   ]
  },
  {
   "cell_type": "code",
   "execution_count": null,
   "metadata": {},
   "outputs": [],
   "source": [
    "x_train"
   ]
  },
  {
   "cell_type": "markdown",
   "metadata": {},
   "source": [
    "Well, except for a lot of zeros there is not really anything to see here. Maybe we should get a broader overview first. Let's have a look at the structure of the data.\n",
    "\n",
    "* **! TODO:** Use the numpy command `.shape` to display the dimensions of the four loaded data structures. \n",
    "\n",
    "* **! TODO:** Answer the following questions:\n",
    "1. How many samples are there (for each training and test data)? \n",
    "2. How many features does a sample consist of (for each training and test data)? \n",
    "3. How are the labels (categories) of the samples stored?"
   ]
  },
  {
   "cell_type": "code",
   "execution_count": null,
   "metadata": {},
   "outputs": [],
   "source": [
    "## YOUR CODE STARTS HERE#\n"
   ]
  },
  {
   "cell_type": "markdown",
   "metadata": {},
   "source": [
    "#### your answer:\n",
    "Number of Samples:  \n",
    "Train Data: \n",
    "Test Data: \n",
    "\n",
    "Number of Features:  \n",
    "Train Data:  \n",
    "Test Data:\n",
    "\n",
    "How are the labels (categories) of the samples stored?  \n",
    "-> "
   ]
  },
  {
   "cell_type": "markdown",
   "metadata": {},
   "source": [
    "### 10.2 Visualizing The Data\n",
    "\n",
    "Now that we have learned a little more about the structure of the data, let's look at individual handwritten digits. For this data set, we can select individual samples using their index. For example, the next cell outputs the 14810th sample using the `.print()` command."
   ]
  },
  {
   "cell_type": "code",
   "execution_count": null,
   "metadata": {},
   "outputs": [],
   "source": [
    "index = 14810\n",
    "single_sample = x_train[index]\n",
    "single_label = y_train[index]\n",
    "\n",
    "print(single_sample)"
   ]
  },
  {
   "cell_type": "markdown",
   "metadata": {},
   "source": [
    "This is the format of a typical numpy array, but it is a bit large to display well in the notebook. If we drop all of the rows and columns that are all zeros, we can display the nonzero part of the matrix in a fairly compact form:"
   ]
  },
  {
   "cell_type": "code",
   "execution_count": null,
   "metadata": {},
   "outputs": [],
   "source": [
    "cropped = single_sample[~np.all(single_sample == 0, axis=1)]\n",
    "cropped = cropped[:,~np.all(cropped == 0, axis=0)]\n",
    "print(cropped)"
   ]
  },
  {
   "cell_type": "markdown",
   "metadata": {},
   "source": [
    "If you look carefully, you might be able to recognize the digit that's been drawn.\n",
    "\n",
    "We can get a better visualization of the digit by using matplotlib. Matplotlib conveniently provides a function `matshow()` to make a 2d plot of the entries of a matrix:"
   ]
  },
  {
   "cell_type": "code",
   "execution_count": null,
   "metadata": {},
   "outputs": [],
   "source": [
    "plt.matshow(single_sample, cmap=plt.cm.gray)\n",
    "plt.suptitle(\"Digit Label: %d\" % single_label)\n",
    "plt.show()"
   ]
  },
  {
   "cell_type": "markdown",
   "metadata": {},
   "source": [
    "The code below does the following:\n",
    "\n",
    "1. Chooses 16 random digits between `0` and the `number of training samples - 1` as indices.\n",
    "2. Use the matplotlib subplots function to generate 4 columns and 4 rows of subfigures.\n",
    "3. Loop over the cells of this collection filling in the cells with a plot. Give the subplot a title corresponding to the known label of the digit."
   ]
  },
  {
   "cell_type": "code",
   "execution_count": null,
   "metadata": {},
   "outputs": [],
   "source": [
    "# generate a list of 16 random rows which are our digits\n",
    "rand_idx = np.random.randint(0, len(x_train), size=16)\n",
    "# generate a 4x4 grid of subplots\n",
    "fig, axs = plt.subplots(nrows=4, ncols=4, figsize=(10,10))\n",
    "\n",
    "# define counter over rand_idx list elements\n",
    "i = 0\n",
    "# axs is a 4x4 array so we flatten it into a vector in order to loop over it\n",
    "for ax in axs.reshape(-1):\n",
    "    # Title is digit label, which can be found by referencing the label column of the row specified by rand_idx[i]\n",
    "    ax.set_title(\"Digit Label: %d\" % y_train[rand_idx[i]])\n",
    "    ax.matshow(x_train[rand_idx[i]], cmap=plt.cm.gray)\n",
    "    ax.axis('off')\n",
    "    i += 1\n",
    "# tight_layout gives more spacing between subplots    \n",
    "plt.tight_layout()   \n",
    "# Tell matplotlib to draw all of the previously generated objects\n",
    "plt.show()"
   ]
  },
  {
   "cell_type": "markdown",
   "metadata": {},
   "source": [
    "### 10.3. Zero Padding\n",
    "\n",
    "As we ran the plot commands, we should also see that there is a consistent padding of blank pixels around the images. In practical terms, this means that some of our features simply take the value 0 with no variation over the training and/or test set. Depending on your machine learning approach, those features may be not be useful for later predictions, in a sense, we might have wasted some of our learning budget on a useless feature.\n",
    "\n",
    "Using numpy's `.all()` command we can determine which pixels are 0 over the entire training set `x_train`. Again, we can visiualise the pixel matrix using `matshow()`."
   ]
  },
  {
   "cell_type": "code",
   "execution_count": null,
   "metadata": {},
   "outputs": [],
   "source": [
    "plt.matshow((x_train == 0).all(axis=0), cmap=plt.cm.gray)"
   ]
  },
  {
   "cell_type": "markdown",
   "metadata": {},
   "source": [
    "### 10.4. Frequency Distribution of Digits\n",
    "\n",
    "A data analysis question we might ask is whether we have equal numbers of each digit appearing in the dataset, or if some digits are favored over another? This might affect our machine learning problem, because if a particular digit was very rare in the dataset, it might be relatively hard to learn how to distinguish that digit from the others.\n",
    "\n",
    "To answer this question, we move to known waters and transform the dataset into pandas dataframes. "
   ]
  },
  {
   "cell_type": "code",
   "execution_count": null,
   "metadata": {},
   "outputs": [],
   "source": [
    "y_train_pandas = pd.Series(y_train, name=\"train\")\n",
    "y_test_pandas = pd.Series(y_test, name=\"test\")"
   ]
  },
  {
   "cell_type": "markdown",
   "metadata": {},
   "source": [
    "\n",
    "* **! TODO:** Compare the frequency distributions of the digits between training and test data. To do this, perform the steps below:\n",
    "1. Obtain the normalized frequency of each digits for both training and test data.\n",
    "2. Combine those two statistics into a single dataframe.\n",
    "3. Plot the derived dataframe as bar chart"
   ]
  },
  {
   "cell_type": "code",
   "execution_count": null,
   "metadata": {},
   "outputs": [],
   "source": [
    "## YOUR CODE STARTS HERE#\n"
   ]
  }
 ],
 "metadata": {
  "kernelspec": {
   "display_name": "Python 3 (ipykernel)",
   "language": "python",
   "name": "python3"
  },
  "language_info": {
   "codemirror_mode": {
    "name": "ipython",
    "version": 3
   },
   "file_extension": ".py",
   "mimetype": "text/x-python",
   "name": "python",
   "nbconvert_exporter": "python",
   "pygments_lexer": "ipython3",
   "version": "3.9.7"
  }
 },
 "nbformat": 4,
 "nbformat_minor": 4
}
